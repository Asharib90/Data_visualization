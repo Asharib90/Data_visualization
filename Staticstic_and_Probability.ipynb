{
 "cells": [
  {
   "cell_type": "code",
   "execution_count": 240,
   "metadata": {},
   "outputs": [],
   "source": [
    "import numpy as np\n",
    "import pandas as pd\n",
    "import statistics as st\n",
    "import matplotlib.pyplot as plt"
   ]
  },
  {
   "cell_type": "code",
   "execution_count": 6,
   "metadata": {},
   "outputs": [],
   "source": [
    "data=pd.read_csv('amazon_phone_dataset.csv')"
   ]
  },
  {
   "cell_type": "code",
   "execution_count": 9,
   "metadata": {},
   "outputs": [
    {
     "data": {
      "text/html": [
       "<div>\n",
       "<style scoped>\n",
       "    .dataframe tbody tr th:only-of-type {\n",
       "        vertical-align: middle;\n",
       "    }\n",
       "\n",
       "    .dataframe tbody tr th {\n",
       "        vertical-align: top;\n",
       "    }\n",
       "\n",
       "    .dataframe thead th {\n",
       "        text-align: right;\n",
       "    }\n",
       "</style>\n",
       "<table border=\"1\" class=\"dataframe\">\n",
       "  <thead>\n",
       "    <tr style=\"text-align: right;\">\n",
       "      <th></th>\n",
       "      <th>Product_name</th>\n",
       "      <th>by_info</th>\n",
       "      <th>Product_url</th>\n",
       "      <th>Product_img</th>\n",
       "      <th>Product_price</th>\n",
       "      <th>rating</th>\n",
       "      <th>total_review</th>\n",
       "      <th>ans_ask</th>\n",
       "      <th>prod_des</th>\n",
       "      <th>feature</th>\n",
       "      <th>cust_review</th>\n",
       "    </tr>\n",
       "  </thead>\n",
       "  <tbody>\n",
       "    <tr>\n",
       "      <th>0</th>\n",
       "      <td>Samsung Galaxy M10 (Ocean Blue, 3+32GB)</td>\n",
       "      <td>Samsung</td>\n",
       "      <td>https://www.amazon.in/Samsung-Galaxy-Ocean-Blu...</td>\n",
       "      <td>https://images-na.ssl-images-amazon.com/images...</td>\n",
       "      <td>₹ 7,990.00</td>\n",
       "      <td>4.0 out of 5 stars</td>\n",
       "      <td>7,353 customer reviews</td>\n",
       "      <td>1000+ answered questions</td>\n",
       "      <td>The Samsung Galaxy M10 is especially created f...</td>\n",
       "      <td>13MP+5MP ultra-wide angle dual camera | 5MP f2...</td>\n",
       "      <td>Well, I was a bit sceptical before buying this...</td>\n",
       "    </tr>\n",
       "    <tr>\n",
       "      <th>1</th>\n",
       "      <td>Redmi 6 Pro (Black, 4GB RAM, 64GB Storage)</td>\n",
       "      <td>Mi</td>\n",
       "      <td>https://www.amazon.in/Redmi-Pro-Black-64GB-Sto...</td>\n",
       "      <td>https://images-na.ssl-images-amazon.com/images...</td>\n",
       "      <td>NaN</td>\n",
       "      <td>4.1 out of 5 stars</td>\n",
       "      <td>32,250 customer reviews</td>\n",
       "      <td>1000+ answered questions</td>\n",
       "      <td>Qualcomm Snapdragon 625, 2.0 GHz processor wit...</td>\n",
       "      <td>12MP+5MP dual rear camera | 5MP front facing c...</td>\n",
       "      <td>Display quality is top notch, overall the qual...</td>\n",
       "    </tr>\n",
       "    <tr>\n",
       "      <th>2</th>\n",
       "      <td>Coolpad Cool 3 Plus (Ocean Blue, 2GB RAM, 16GB...</td>\n",
       "      <td>Coolpad</td>\n",
       "      <td>https://www.amazon.in/Coolpad-Cool-Plus-Ocean-...</td>\n",
       "      <td>https://images-na.ssl-images-amazon.com/images...</td>\n",
       "      <td>₹ 5,999.00</td>\n",
       "      <td>3.1 out of 5 stars</td>\n",
       "      <td>76 customer reviews</td>\n",
       "      <td>69 answered questions</td>\n",
       "      <td>Coolpad Cool 3 Plus-Designed for all, 5.71'' H...</td>\n",
       "      <td>13MP primary camera with bokeh mode, timelapse...</td>\n",
       "      <td>Low bagget high kwality***It's not good Phone ...</td>\n",
       "    </tr>\n",
       "    <tr>\n",
       "      <th>3</th>\n",
       "      <td>Redmi 6 Pro (Black, 3GB RAM, 32GB Storage)</td>\n",
       "      <td>Mi</td>\n",
       "      <td>https://www.amazon.in/Redmi-Pro-Black-32GB-Sto...</td>\n",
       "      <td>https://images-na.ssl-images-amazon.com/images...</td>\n",
       "      <td>NaN</td>\n",
       "      <td>4.1 out of 5 stars</td>\n",
       "      <td>32,250 customer reviews</td>\n",
       "      <td>1000+ answered questions</td>\n",
       "      <td>Qualcomm Snapdragon 625, 2.0 GHz processor wit...</td>\n",
       "      <td>12MP+5MP dual rear camera | 5MP front facing c...</td>\n",
       "      <td>Display quality is top notch, overall the qual...</td>\n",
       "    </tr>\n",
       "    <tr>\n",
       "      <th>4</th>\n",
       "      <td>Nokia 105 (Black)</td>\n",
       "      <td>Nokia</td>\n",
       "      <td>https://www.amazon.in/Nokia-105-Black/dp/B0745...</td>\n",
       "      <td>https://images-na.ssl-images-amazon.com/images...</td>\n",
       "      <td>NaN</td>\n",
       "      <td>4.1 out of 5 stars</td>\n",
       "      <td>6,474 customer reviews</td>\n",
       "      <td>1000+ answered questions</td>\n",
       "      <td>The design Shaped for your palm Featuring a cu...</td>\n",
       "      <td>4.572 centimeters (1.8-inch) display with 240 ...</td>\n",
       "      <td>Using the mobile phone for last 3 months. I am...</td>\n",
       "    </tr>\n",
       "  </tbody>\n",
       "</table>\n",
       "</div>"
      ],
      "text/plain": [
       "                                        Product_name  by_info  \\\n",
       "0            Samsung Galaxy M10 (Ocean Blue, 3+32GB)  Samsung   \n",
       "1         Redmi 6 Pro (Black, 4GB RAM, 64GB Storage)       Mi   \n",
       "2  Coolpad Cool 3 Plus (Ocean Blue, 2GB RAM, 16GB...  Coolpad   \n",
       "3         Redmi 6 Pro (Black, 3GB RAM, 32GB Storage)       Mi   \n",
       "4                                  Nokia 105 (Black)    Nokia   \n",
       "\n",
       "                                         Product_url  \\\n",
       "0  https://www.amazon.in/Samsung-Galaxy-Ocean-Blu...   \n",
       "1  https://www.amazon.in/Redmi-Pro-Black-64GB-Sto...   \n",
       "2  https://www.amazon.in/Coolpad-Cool-Plus-Ocean-...   \n",
       "3  https://www.amazon.in/Redmi-Pro-Black-32GB-Sto...   \n",
       "4  https://www.amazon.in/Nokia-105-Black/dp/B0745...   \n",
       "\n",
       "                                         Product_img Product_price  \\\n",
       "0  https://images-na.ssl-images-amazon.com/images...    ₹ 7,990.00   \n",
       "1  https://images-na.ssl-images-amazon.com/images...           NaN   \n",
       "2  https://images-na.ssl-images-amazon.com/images...    ₹ 5,999.00   \n",
       "3  https://images-na.ssl-images-amazon.com/images...           NaN   \n",
       "4  https://images-na.ssl-images-amazon.com/images...           NaN   \n",
       "\n",
       "               rating             total_review                   ans_ask  \\\n",
       "0  4.0 out of 5 stars   7,353 customer reviews  1000+ answered questions   \n",
       "1  4.1 out of 5 stars  32,250 customer reviews  1000+ answered questions   \n",
       "2  3.1 out of 5 stars      76 customer reviews     69 answered questions   \n",
       "3  4.1 out of 5 stars  32,250 customer reviews  1000+ answered questions   \n",
       "4  4.1 out of 5 stars   6,474 customer reviews  1000+ answered questions   \n",
       "\n",
       "                                            prod_des  \\\n",
       "0  The Samsung Galaxy M10 is especially created f...   \n",
       "1  Qualcomm Snapdragon 625, 2.0 GHz processor wit...   \n",
       "2  Coolpad Cool 3 Plus-Designed for all, 5.71'' H...   \n",
       "3  Qualcomm Snapdragon 625, 2.0 GHz processor wit...   \n",
       "4  The design Shaped for your palm Featuring a cu...   \n",
       "\n",
       "                                             feature  \\\n",
       "0  13MP+5MP ultra-wide angle dual camera | 5MP f2...   \n",
       "1  12MP+5MP dual rear camera | 5MP front facing c...   \n",
       "2  13MP primary camera with bokeh mode, timelapse...   \n",
       "3  12MP+5MP dual rear camera | 5MP front facing c...   \n",
       "4  4.572 centimeters (1.8-inch) display with 240 ...   \n",
       "\n",
       "                                         cust_review  \n",
       "0  Well, I was a bit sceptical before buying this...  \n",
       "1  Display quality is top notch, overall the qual...  \n",
       "2  Low bagget high kwality***It's not good Phone ...  \n",
       "3  Display quality is top notch, overall the qual...  \n",
       "4  Using the mobile phone for last 3 months. I am...  "
      ]
     },
     "execution_count": 9,
     "metadata": {},
     "output_type": "execute_result"
    }
   ],
   "source": [
    "data.head()"
   ]
  },
  {
   "cell_type": "code",
   "execution_count": 11,
   "metadata": {},
   "outputs": [
    {
     "data": {
      "text/html": [
       "<div>\n",
       "<style scoped>\n",
       "    .dataframe tbody tr th:only-of-type {\n",
       "        vertical-align: middle;\n",
       "    }\n",
       "\n",
       "    .dataframe tbody tr th {\n",
       "        vertical-align: top;\n",
       "    }\n",
       "\n",
       "    .dataframe thead th {\n",
       "        text-align: right;\n",
       "    }\n",
       "</style>\n",
       "<table border=\"1\" class=\"dataframe\">\n",
       "  <thead>\n",
       "    <tr style=\"text-align: right;\">\n",
       "      <th></th>\n",
       "      <th>Product_name</th>\n",
       "      <th>by_info</th>\n",
       "      <th>Product_url</th>\n",
       "      <th>Product_img</th>\n",
       "      <th>Product_price</th>\n",
       "      <th>rating</th>\n",
       "      <th>total_review</th>\n",
       "      <th>ans_ask</th>\n",
       "      <th>prod_des</th>\n",
       "      <th>feature</th>\n",
       "      <th>cust_review</th>\n",
       "    </tr>\n",
       "  </thead>\n",
       "  <tbody>\n",
       "    <tr>\n",
       "      <th>9565</th>\n",
       "      <td>Ktrack Metal and Plastic Open Pry Screwdriver ...</td>\n",
       "      <td>Ktrack</td>\n",
       "      <td>https://www.amazon.in/Ktrack-Plastic-Screwdriv...</td>\n",
       "      <td>NaN</td>\n",
       "      <td>NaN</td>\n",
       "      <td>2.9 out of 5 stars</td>\n",
       "      <td>71 customer reviews</td>\n",
       "      <td>60 answered questions</td>\n",
       "      <td>Product: Tool Metal and plastic. 8 in 1 tools ...</td>\n",
       "      <td>Material: Metal and Plastic8 In 1 tools consis...</td>\n",
       "      <td>Really very helpful tools for laptop pc and mo...</td>\n",
       "    </tr>\n",
       "    <tr>\n",
       "      <th>9566</th>\n",
       "      <td>Samsung S-View Flip Cover for Samsung Galaxy S...</td>\n",
       "      <td>Samsung</td>\n",
       "      <td>https://www.amazon.in/Samsung-S-View-Flip-Cove...</td>\n",
       "      <td>https://images-na.ssl-images-amazon.com/images...</td>\n",
       "      <td>₹ 699.00</td>\n",
       "      <td>3.9 out of 5 stars</td>\n",
       "      <td>7 customer reviews</td>\n",
       "      <td>4 answered questions</td>\n",
       "      <td>The S-View Flip Cover, Clear allows you to see...</td>\n",
       "      <td>All-around protection for your device, while c...</td>\n",
       "      <td>Nice 1. The cover is glossy &amp; smooth hence pre...</td>\n",
       "    </tr>\n",
       "    <tr>\n",
       "      <th>9567</th>\n",
       "      <td>TheGiftKart Full Body 3 in 1 Slim Fit 360 Degr...</td>\n",
       "      <td>TheGiftKart</td>\n",
       "      <td>https://www.amazon.in/TheGiftKart-Degree-Prote...</td>\n",
       "      <td>https://images-na.ssl-images-amazon.com/images...</td>\n",
       "      <td>NaN</td>\n",
       "      <td>3.6 out of 5 stars</td>\n",
       "      <td>154 customer reviews</td>\n",
       "      <td>20 answered questions</td>\n",
       "      <td>DESCRIPTION:br&gt;Beautiful design, elegant appea...</td>\n",
       "      <td>COMPATIBILITY: Compatible / Suitable for XIAOM...</td>\n",
       "      <td>Case is of decent quality ,Iam giving one star...</td>\n",
       "    </tr>\n",
       "    <tr>\n",
       "      <th>9568</th>\n",
       "      <td>NaN</td>\n",
       "      <td>NaN</td>\n",
       "      <td>https://www.amazon.in/Mi-Basic-2-Bluetooth-Spe...</td>\n",
       "      <td>NaN</td>\n",
       "      <td>NaN</td>\n",
       "      <td>NaN</td>\n",
       "      <td>NaN</td>\n",
       "      <td>NaN</td>\n",
       "      <td>NaN</td>\n",
       "      <td>NaN</td>\n",
       "      <td>NaN</td>\n",
       "    </tr>\n",
       "    <tr>\n",
       "      <th>9569</th>\n",
       "      <td>NaN</td>\n",
       "      <td>NaN</td>\n",
       "      <td>https://www.amazon.in/Wonderford-Locust-Adjust...</td>\n",
       "      <td>NaN</td>\n",
       "      <td>NaN</td>\n",
       "      <td>NaN</td>\n",
       "      <td>NaN</td>\n",
       "      <td>NaN</td>\n",
       "      <td>NaN</td>\n",
       "      <td>NaN</td>\n",
       "      <td>NaN</td>\n",
       "    </tr>\n",
       "  </tbody>\n",
       "</table>\n",
       "</div>"
      ],
      "text/plain": [
       "                                           Product_name      by_info  \\\n",
       "9565  Ktrack Metal and Plastic Open Pry Screwdriver ...       Ktrack   \n",
       "9566  Samsung S-View Flip Cover for Samsung Galaxy S...      Samsung   \n",
       "9567  TheGiftKart Full Body 3 in 1 Slim Fit 360 Degr...  TheGiftKart   \n",
       "9568                                                NaN          NaN   \n",
       "9569                                                NaN          NaN   \n",
       "\n",
       "                                            Product_url  \\\n",
       "9565  https://www.amazon.in/Ktrack-Plastic-Screwdriv...   \n",
       "9566  https://www.amazon.in/Samsung-S-View-Flip-Cove...   \n",
       "9567  https://www.amazon.in/TheGiftKart-Degree-Prote...   \n",
       "9568  https://www.amazon.in/Mi-Basic-2-Bluetooth-Spe...   \n",
       "9569  https://www.amazon.in/Wonderford-Locust-Adjust...   \n",
       "\n",
       "                                            Product_img Product_price  \\\n",
       "9565                                                NaN           NaN   \n",
       "9566  https://images-na.ssl-images-amazon.com/images...      ₹ 699.00   \n",
       "9567  https://images-na.ssl-images-amazon.com/images...           NaN   \n",
       "9568                                                NaN           NaN   \n",
       "9569                                                NaN           NaN   \n",
       "\n",
       "                  rating          total_review                ans_ask  \\\n",
       "9565  2.9 out of 5 stars   71 customer reviews  60 answered questions   \n",
       "9566  3.9 out of 5 stars    7 customer reviews   4 answered questions   \n",
       "9567  3.6 out of 5 stars  154 customer reviews  20 answered questions   \n",
       "9568                 NaN                   NaN                    NaN   \n",
       "9569                 NaN                   NaN                    NaN   \n",
       "\n",
       "                                               prod_des  \\\n",
       "9565  Product: Tool Metal and plastic. 8 in 1 tools ...   \n",
       "9566  The S-View Flip Cover, Clear allows you to see...   \n",
       "9567  DESCRIPTION:br>Beautiful design, elegant appea...   \n",
       "9568                                                NaN   \n",
       "9569                                                NaN   \n",
       "\n",
       "                                                feature  \\\n",
       "9565  Material: Metal and Plastic8 In 1 tools consis...   \n",
       "9566  All-around protection for your device, while c...   \n",
       "9567  COMPATIBILITY: Compatible / Suitable for XIAOM...   \n",
       "9568                                                NaN   \n",
       "9569                                                NaN   \n",
       "\n",
       "                                            cust_review  \n",
       "9565  Really very helpful tools for laptop pc and mo...  \n",
       "9566  Nice 1. The cover is glossy & smooth hence pre...  \n",
       "9567  Case is of decent quality ,Iam giving one star...  \n",
       "9568                                                NaN  \n",
       "9569                                                NaN  "
      ]
     },
     "execution_count": 11,
     "metadata": {},
     "output_type": "execute_result"
    }
   ],
   "source": [
    "data.tail()"
   ]
  },
  {
   "cell_type": "code",
   "execution_count": 10,
   "metadata": {},
   "outputs": [
    {
     "name": "stdout",
     "output_type": "stream",
     "text": [
      "<class 'pandas.core.frame.DataFrame'>\n",
      "RangeIndex: 9570 entries, 0 to 9569\n",
      "Data columns (total 11 columns):\n",
      "Product_name     4176 non-null object\n",
      "by_info          4167 non-null object\n",
      "Product_url      9570 non-null object\n",
      "Product_img      2935 non-null object\n",
      "Product_price    2926 non-null object\n",
      "rating           3439 non-null object\n",
      "total_review     3441 non-null object\n",
      "ans_ask          2349 non-null object\n",
      "prod_des         3414 non-null object\n",
      "feature          4157 non-null object\n",
      "cust_review      3442 non-null object\n",
      "dtypes: object(11)\n",
      "memory usage: 822.5+ KB\n"
     ]
    }
   ],
   "source": [
    "data.info()"
   ]
  },
  {
   "cell_type": "code",
   "execution_count": 14,
   "metadata": {},
   "outputs": [
    {
     "data": {
      "text/html": [
       "<div>\n",
       "<style scoped>\n",
       "    .dataframe tbody tr th:only-of-type {\n",
       "        vertical-align: middle;\n",
       "    }\n",
       "\n",
       "    .dataframe tbody tr th {\n",
       "        vertical-align: top;\n",
       "    }\n",
       "\n",
       "    .dataframe thead th {\n",
       "        text-align: right;\n",
       "    }\n",
       "</style>\n",
       "<table border=\"1\" class=\"dataframe\">\n",
       "  <thead>\n",
       "    <tr style=\"text-align: right;\">\n",
       "      <th></th>\n",
       "      <th>Product_name</th>\n",
       "      <th>by_info</th>\n",
       "      <th>Product_url</th>\n",
       "      <th>Product_img</th>\n",
       "      <th>Product_price</th>\n",
       "      <th>rating</th>\n",
       "      <th>total_review</th>\n",
       "      <th>ans_ask</th>\n",
       "      <th>prod_des</th>\n",
       "      <th>feature</th>\n",
       "      <th>cust_review</th>\n",
       "    </tr>\n",
       "  </thead>\n",
       "  <tbody>\n",
       "    <tr>\n",
       "      <th>count</th>\n",
       "      <td>4176</td>\n",
       "      <td>4167</td>\n",
       "      <td>9570</td>\n",
       "      <td>2935</td>\n",
       "      <td>2926</td>\n",
       "      <td>3439</td>\n",
       "      <td>3441</td>\n",
       "      <td>2349</td>\n",
       "      <td>3414</td>\n",
       "      <td>4157</td>\n",
       "      <td>3442</td>\n",
       "    </tr>\n",
       "    <tr>\n",
       "      <th>unique</th>\n",
       "      <td>3607</td>\n",
       "      <td>1235</td>\n",
       "      <td>9568</td>\n",
       "      <td>2420</td>\n",
       "      <td>812</td>\n",
       "      <td>45</td>\n",
       "      <td>572</td>\n",
       "      <td>357</td>\n",
       "      <td>2428</td>\n",
       "      <td>3118</td>\n",
       "      <td>2556</td>\n",
       "    </tr>\n",
       "    <tr>\n",
       "      <th>top</th>\n",
       "      <td>Smart Fitness Band, Muzili Activity Tracker wi...</td>\n",
       "      <td>Amazon Renewed</td>\n",
       "      <td>TASLAR</td>\n",
       "      <td>https://images-na.ssl-images-amazon.com/images...</td>\n",
       "      <td>₹ 299.00</td>\n",
       "      <td>5.0 out of 5 stars</td>\n",
       "      <td>1 customer review</td>\n",
       "      <td>1000+ answered questions</td>\n",
       "      <td>This Renewed Product has been tested to work a...</td>\n",
       "      <td>NOTE : BUY FROM NKARTA TO GET ORIGINAL AND PRE...</td>\n",
       "      <td>Good***</td>\n",
       "    </tr>\n",
       "    <tr>\n",
       "      <th>freq</th>\n",
       "      <td>5</td>\n",
       "      <td>96</td>\n",
       "      <td>2</td>\n",
       "      <td>7</td>\n",
       "      <td>204</td>\n",
       "      <td>390</td>\n",
       "      <td>381</td>\n",
       "      <td>189</td>\n",
       "      <td>33</td>\n",
       "      <td>18</td>\n",
       "      <td>11</td>\n",
       "    </tr>\n",
       "  </tbody>\n",
       "</table>\n",
       "</div>"
      ],
      "text/plain": [
       "                                             Product_name         by_info  \\\n",
       "count                                                4176            4167   \n",
       "unique                                               3607            1235   \n",
       "top     Smart Fitness Band, Muzili Activity Tracker wi...  Amazon Renewed   \n",
       "freq                                                    5              96   \n",
       "\n",
       "       Product_url                                        Product_img  \\\n",
       "count         9570                                               2935   \n",
       "unique        9568                                               2420   \n",
       "top         TASLAR  https://images-na.ssl-images-amazon.com/images...   \n",
       "freq             2                                                  7   \n",
       "\n",
       "       Product_price              rating       total_review  \\\n",
       "count           2926                3439               3441   \n",
       "unique           812                  45                572   \n",
       "top         ₹ 299.00  5.0 out of 5 stars  1 customer review   \n",
       "freq             204                 390                381   \n",
       "\n",
       "                         ans_ask  \\\n",
       "count                       2349   \n",
       "unique                       357   \n",
       "top     1000+ answered questions   \n",
       "freq                         189   \n",
       "\n",
       "                                                 prod_des  \\\n",
       "count                                                3414   \n",
       "unique                                               2428   \n",
       "top     This Renewed Product has been tested to work a...   \n",
       "freq                                                   33   \n",
       "\n",
       "                                                  feature cust_review  \n",
       "count                                                4157        3442  \n",
       "unique                                               3118        2556  \n",
       "top     NOTE : BUY FROM NKARTA TO GET ORIGINAL AND PRE...     Good***  \n",
       "freq                                                   18          11  "
      ]
     },
     "execution_count": 14,
     "metadata": {},
     "output_type": "execute_result"
    }
   ],
   "source": [
    "data.describe()"
   ]
  },
  {
   "cell_type": "markdown",
   "metadata": {},
   "source": [
    "# Bar Graph"
   ]
  },
  {
   "cell_type": "code",
   "execution_count": 46,
   "metadata": {},
   "outputs": [],
   "source": [
    "brand=data['by_info']"
   ]
  },
  {
   "cell_type": "code",
   "execution_count": 263,
   "metadata": {},
   "outputs": [
    {
     "data": {
      "text/plain": [
       "0    Samsung\n",
       "1         Mi\n",
       "2    Coolpad\n",
       "3         Mi\n",
       "4      Nokia\n",
       "Name: by_info, dtype: object"
      ]
     },
     "execution_count": 263,
     "metadata": {},
     "output_type": "execute_result"
    }
   ],
   "source": [
    "brand.head()"
   ]
  },
  {
   "cell_type": "code",
   "execution_count": 63,
   "metadata": {},
   "outputs": [
    {
     "data": {
      "text/plain": [
       "<matplotlib.axes._subplots.AxesSubplot at 0x1f9f70274a8>"
      ]
     },
     "execution_count": 63,
     "metadata": {},
     "output_type": "execute_result"
    },
    {
     "data": {
      "image/png": "[encoded data removed]",
      "text/plain": [
       "<Figure size 432x288 with 1 Axes>"
      ]
     },
     "metadata": {
      "needs_background": "light"
     },
     "output_type": "display_data"
    }
   ],
   "source": [
    "brand.head(100).value_counts().plot(kind='bar')"
   ]
  },
  {
   "cell_type": "markdown",
   "metadata": {},
   "source": [
    "# The Ogive"
   ]
  },
  {
   "cell_type": "code",
   "execution_count": 68,
   "metadata": {},
   "outputs": [],
   "source": [
    "samsung_rating=data.loc[data['by_info']=='Samsung','rating']"
   ]
  },
  {
   "cell_type": "code",
   "execution_count": 83,
   "metadata": {},
   "outputs": [
    {
     "data": {
      "text/plain": [
       "<bound method NDFrame.head of 0                      4.0\n",
       "8                      4.0\n",
       "11                     4.0\n",
       "12                     4.0\n",
       "15                     4.0\n",
       "16      3.9 out of 5 stars\n",
       "17      4.2 out of 5 stars\n",
       "21      3.9 out of 5 stars\n",
       "22      3.8 out of 5 stars\n",
       "27      3.9 out of 5 stars\n",
       "42      3.4 out of 5 stars\n",
       "44      4.2 out of 5 stars\n",
       "64      4.2 out of 5 stars\n",
       "71      3.9 out of 5 stars\n",
       "72      3.9 out of 5 stars\n",
       "78                     4.0\n",
       "80      3.9 out of 5 stars\n",
       "96      4.2 out of 5 stars\n",
       "99      3.9 out of 5 stars\n",
       "106     4.2 out of 5 stars\n",
       "107     3.8 out of 5 stars\n",
       "111     3.8 out of 5 stars\n",
       "134     3.8 out of 5 stars\n",
       "145                    4.0\n",
       "151     3.9 out of 5 stars\n",
       "159     3.8 out of 5 stars\n",
       "162     3.4 out of 5 stars\n",
       "175     4.1 out of 5 stars\n",
       "176     3.8 out of 5 stars\n",
       "185                    4.0\n",
       "               ...        \n",
       "1223    4.2 out of 5 stars\n",
       "1334    4.5 out of 5 stars\n",
       "1348    4.5 out of 5 stars\n",
       "1589                   4.0\n",
       "1964    4.4 out of 5 stars\n",
       "2576    3.6 out of 5 stars\n",
       "2593    3.6 out of 5 stars\n",
       "2692    4.4 out of 5 stars\n",
       "2706    4.3 out of 5 stars\n",
       "2848    4.1 out of 5 stars\n",
       "2876                   4.0\n",
       "2883                   4.0\n",
       "3009    4.1 out of 5 stars\n",
       "3105    3.3 out of 5 stars\n",
       "3685                   NaN\n",
       "3986    3.5 out of 5 stars\n",
       "4305    3.7 out of 5 stars\n",
       "4312    3.6 out of 5 stars\n",
       "4558    3.8 out of 5 stars\n",
       "5541    3.6 out of 5 stars\n",
       "6177    3.6 out of 5 stars\n",
       "6265    3.6 out of 5 stars\n",
       "6462    5.0 out of 5 stars\n",
       "6712    2.6 out of 5 stars\n",
       "6809    3.7 out of 5 stars\n",
       "7319                   NaN\n",
       "7369    3.0 out of 5 stars\n",
       "7787    4.1 out of 5 stars\n",
       "8571    4.5 out of 5 stars\n",
       "9566    3.9 out of 5 stars\n",
       "Name: rating, Length: 91, dtype: object>"
      ]
     },
     "execution_count": 83,
     "metadata": {},
     "output_type": "execute_result"
    }
   ],
   "source": [
    "samsung_rating.head"
   ]
  },
  {
   "cell_type": "code",
   "execution_count": 106,
   "metadata": {},
   "outputs": [],
   "source": [
    "samsung_rating[samsung_rating=='3.0 out of 5 stars']='3.0'"
   ]
  },
  {
   "cell_type": "code",
   "execution_count": 108,
   "metadata": {},
   "outputs": [
    {
     "data": {
      "text/plain": [
       "<matplotlib.axes._subplots.AxesSubplot at 0x1f9f8670748>"
      ]
     },
     "execution_count": 108,
     "metadata": {},
     "output_type": "execute_result"
    },
    {
     "data": {
      "image/png": "[encoded data removed]",
      "text/plain": [
       "<Figure size 432x288 with 1 Axes>"
      ]
     },
     "metadata": {
      "needs_background": "light"
     },
     "output_type": "display_data"
    }
   ],
   "source": [
    "samsung_rating.value_counts().plot()"
   ]
  },
  {
   "cell_type": "markdown",
   "metadata": {},
   "source": [
    "# Mode"
   ]
  },
  {
   "cell_type": "code",
   "execution_count": 111,
   "metadata": {},
   "outputs": [
    {
     "data": {
      "text/html": [
       "<div>\n",
       "<style scoped>\n",
       "    .dataframe tbody tr th:only-of-type {\n",
       "        vertical-align: middle;\n",
       "    }\n",
       "\n",
       "    .dataframe tbody tr th {\n",
       "        vertical-align: top;\n",
       "    }\n",
       "\n",
       "    .dataframe thead th {\n",
       "        text-align: right;\n",
       "    }\n",
       "</style>\n",
       "<table border=\"1\" class=\"dataframe\">\n",
       "  <thead>\n",
       "    <tr style=\"text-align: right;\">\n",
       "      <th></th>\n",
       "      <th>Product_name</th>\n",
       "      <th>by_info</th>\n",
       "      <th>Product_url</th>\n",
       "      <th>Product_img</th>\n",
       "      <th>Product_price</th>\n",
       "      <th>rating</th>\n",
       "      <th>total_review</th>\n",
       "      <th>ans_ask</th>\n",
       "      <th>prod_des</th>\n",
       "      <th>feature</th>\n",
       "      <th>cust_review</th>\n",
       "    </tr>\n",
       "  </thead>\n",
       "  <tbody>\n",
       "    <tr>\n",
       "      <th>0</th>\n",
       "      <td>Smart Fitness Band, Muzili Activity Tracker wi...</td>\n",
       "      <td>Amazon Renewed</td>\n",
       "      <td>Fingerprint</td>\n",
       "      <td>https://images-na.ssl-images-amazon.com/images...</td>\n",
       "      <td>₹ 299.00</td>\n",
       "      <td>5.0 out of 5 stars</td>\n",
       "      <td>1 customer review</td>\n",
       "      <td>1000+ answered questions</td>\n",
       "      <td>Important message-</td>\n",
       "      <td>NOTE : BUY FROM NKARTA TO GET ORIGINAL AND PRE...</td>\n",
       "      <td>Good***</td>\n",
       "    </tr>\n",
       "    <tr>\n",
       "      <th>1</th>\n",
       "      <td>NaN</td>\n",
       "      <td>NaN</td>\n",
       "      <td>TASLAR</td>\n",
       "      <td>NaN</td>\n",
       "      <td>NaN</td>\n",
       "      <td>NaN</td>\n",
       "      <td>NaN</td>\n",
       "      <td>NaN</td>\n",
       "      <td>This Renewed Product has been tested to work a...</td>\n",
       "      <td>NaN</td>\n",
       "      <td>NaN</td>\n",
       "    </tr>\n",
       "  </tbody>\n",
       "</table>\n",
       "</div>"
      ],
      "text/plain": [
       "                                        Product_name         by_info  \\\n",
       "0  Smart Fitness Band, Muzili Activity Tracker wi...  Amazon Renewed   \n",
       "1                                                NaN             NaN   \n",
       "\n",
       "    Product_url                                        Product_img  \\\n",
       "0   Fingerprint  https://images-na.ssl-images-amazon.com/images...   \n",
       "1        TASLAR                                                NaN   \n",
       "\n",
       "  Product_price              rating       total_review  \\\n",
       "0      ₹ 299.00  5.0 out of 5 stars  1 customer review   \n",
       "1           NaN                 NaN                NaN   \n",
       "\n",
       "                    ans_ask  \\\n",
       "0  1000+ answered questions   \n",
       "1                       NaN   \n",
       "\n",
       "                                            prod_des  \\\n",
       "0                                 Important message-   \n",
       "1  This Renewed Product has been tested to work a...   \n",
       "\n",
       "                                             feature cust_review  \n",
       "0  NOTE : BUY FROM NKARTA TO GET ORIGINAL AND PRE...     Good***  \n",
       "1                                                NaN         NaN  "
      ]
     },
     "execution_count": 111,
     "metadata": {},
     "output_type": "execute_result"
    }
   ],
   "source": [
    "data.mode()"
   ]
  },
  {
   "cell_type": "code",
   "execution_count": 132,
   "metadata": {},
   "outputs": [],
   "source": [
    "samsung_pro=data.loc[data['by_info']=='Samsung','Product_name']"
   ]
  },
  {
   "cell_type": "code",
   "execution_count": 134,
   "metadata": {},
   "outputs": [
    {
     "data": {
      "text/plain": [
       "0               Samsung Galaxy M10 (Ocean Blue, 3+32GB)\n",
       "8     Samsung Galaxy A10 (Gold, 2GB RAM, 32GB Storag...\n",
       "11    Samsung Galaxy M40 (Midnight Blue, 6GB RAM, 12...\n",
       "12              Samsung Galaxy M10 (Ocean Blue, 2+16GB)\n",
       "15    Samsung Galaxy M40 (Cocktail Orange, 6GB RAM, ...\n",
       "Name: Product_name, dtype: object"
      ]
     },
     "execution_count": 134,
     "metadata": {},
     "output_type": "execute_result"
    }
   ],
   "source": [
    "samsung_pro.head()"
   ]
  },
  {
   "cell_type": "markdown",
   "metadata": {},
   "source": [
    "# Standard deviation"
   ]
  },
  {
   "cell_type": "code",
   "execution_count": 142,
   "metadata": {},
   "outputs": [
    {
     "data": {
      "text/plain": [
       "0.3310104246614718"
      ]
     },
     "execution_count": 142,
     "metadata": {},
     "output_type": "execute_result"
    }
   ],
   "source": [
    "st.stdev(samsung_pro.value_counts())"
   ]
  },
  {
   "cell_type": "markdown",
   "metadata": {},
   "source": [
    "# Variance"
   ]
  },
  {
   "cell_type": "code",
   "execution_count": 143,
   "metadata": {},
   "outputs": [
    {
     "data": {
      "text/plain": [
       "0.1095679012345679"
      ]
     },
     "execution_count": 143,
     "metadata": {},
     "output_type": "execute_result"
    }
   ],
   "source": [
    "st.variance(samsung_pro.value_counts())"
   ]
  },
  {
   "cell_type": "markdown",
   "metadata": {},
   "source": [
    "# Histogram"
   ]
  },
  {
   "cell_type": "code",
   "execution_count": 257,
   "metadata": {},
   "outputs": [],
   "source": [
    "hist_bin=[0,50000,100000,200000,300000,400000,500000,600000,700000]"
   ]
  },
  {
   "cell_type": "code",
   "execution_count": 258,
   "metadata": {},
   "outputs": [
    {
     "data": {
      "text/plain": [
       "0     799000.0\n",
       "2     599900.0\n",
       "5     349000.0\n",
       "6     649900.0\n",
       "13    349000.0\n",
       "Name: Product_price, dtype: float64"
      ]
     },
     "execution_count": 258,
     "metadata": {},
     "output_type": "execute_result"
    }
   ],
   "source": [
    "price=data['Product_price']\n",
    "price.dropna(inplace=True)\n",
    "price=price.str.replace(r'\\D','')\n",
    "price=pd.to_numeric(price)\n",
    "price.head()"
   ]
  },
  {
   "cell_type": "code",
   "execution_count": 262,
   "metadata": {},
   "outputs": [
    {
     "data": {
      "text/plain": [
       "<matplotlib.axes._subplots.AxesSubplot at 0x1f9fa457d30>"
      ]
     },
     "execution_count": 262,
     "metadata": {},
     "output_type": "execute_result"
    },
    {
     "data": {
      "image/png": "[encoded data removed]",
      "text/plain": [
       "<Figure size 432x288 with 1 Axes>"
      ]
     },
     "metadata": {
      "needs_background": "light"
     },
     "output_type": "display_data"
    }
   ],
   "source": [
    "price.plot.hist(hist_bin)"
   ]
  },
  {
   "cell_type": "markdown",
   "metadata": {},
   "source": [
    "# Mean"
   ]
  },
  {
   "cell_type": "code",
   "execution_count": 347,
   "metadata": {},
   "outputs": [
    {
     "data": {
      "text/plain": [
       "0    Samsung\n",
       "1         Mi\n",
       "2    Coolpad\n",
       "3         Mi\n",
       "4      Nokia\n",
       "Name: by_info, dtype: object"
      ]
     },
     "execution_count": 347,
     "metadata": {},
     "output_type": "execute_result"
    }
   ],
   "source": [
    "brand.head()"
   ]
  },
  {
   "cell_type": "code",
   "execution_count": 273,
   "metadata": {},
   "outputs": [
    {
     "data": {
      "text/plain": [
       "3.374089068825911"
      ]
     },
     "execution_count": 273,
     "metadata": {},
     "output_type": "execute_result"
    }
   ],
   "source": [
    "brand.value_counts().mean()"
   ]
  },
  {
   "cell_type": "markdown",
   "metadata": {},
   "source": [
    "# Median"
   ]
  },
  {
   "cell_type": "code",
   "execution_count": 346,
   "metadata": {},
   "outputs": [
    {
     "data": {
      "text/plain": [
       "9565         Ktrack\n",
       "9566        Samsung\n",
       "9567    TheGiftKart\n",
       "9568            NaN\n",
       "9569            NaN\n",
       "Name: by_info, dtype: object"
      ]
     },
     "execution_count": 346,
     "metadata": {},
     "output_type": "execute_result"
    }
   ],
   "source": [
    "brand.tail()"
   ]
  },
  {
   "cell_type": "code",
   "execution_count": 275,
   "metadata": {},
   "outputs": [
    {
     "data": {
      "text/plain": [
       "1.0"
      ]
     },
     "execution_count": 275,
     "metadata": {},
     "output_type": "execute_result"
    }
   ],
   "source": [
    "brand.value_counts().median()"
   ]
  },
  {
   "cell_type": "markdown",
   "metadata": {},
   "source": [
    "# Quartie deviation"
   ]
  },
  {
   "cell_type": "code",
   "execution_count": 307,
   "metadata": {},
   "outputs": [],
   "source": [
    "reviews=data.loc[data['by_info']=='Samsung','total_review']"
   ]
  },
  {
   "cell_type": "code",
   "execution_count": 308,
   "metadata": {},
   "outputs": [
    {
     "data": {
      "text/plain": [
       "0     7,353 customer reviews\n",
       "8       196 customer reviews\n",
       "11    3,105 customer reviews\n",
       "12    7,353 customer reviews\n",
       "15    3,105 customer reviews\n",
       "Name: total_review, dtype: object"
      ]
     },
     "execution_count": 308,
     "metadata": {},
     "output_type": "execute_result"
    }
   ],
   "source": [
    "reviews.head()"
   ]
  },
  {
   "cell_type": "code",
   "execution_count": 324,
   "metadata": {},
   "outputs": [],
   "source": [
    "reviews=reviews.str.replace('customer reviews','')"
   ]
  },
  {
   "cell_type": "code",
   "execution_count": 345,
   "metadata": {},
   "outputs": [
    {
     "data": {
      "text/plain": [
       "0.25    1.0\n",
       "0.50    1.0\n",
       "0.75    2.0\n",
       "Name: total_review, dtype: float64"
      ]
     },
     "execution_count": 345,
     "metadata": {},
     "output_type": "execute_result"
    }
   ],
   "source": [
    "reviews.value_counts().quantile([0.25,0.5,0.75])"
   ]
  },
  {
   "cell_type": "code",
   "execution_count": null,
   "metadata": {},
   "outputs": [],
   "source": []
  },
  {
   "cell_type": "code",
   "execution_count": null,
   "metadata": {},
   "outputs": [],
   "source": []
  },
  {
   "cell_type": "code",
   "execution_count": null,
   "metadata": {},
   "outputs": [],
   "source": []
  },
  {
   "cell_type": "code",
   "execution_count": null,
   "metadata": {},
   "outputs": [],
   "source": []
  }
 ],
 "metadata": {
  "kernelspec": {
   "display_name": "Python 3",
   "language": "python",
   "name": "python3"
  },
  "language_info": {
   "codemirror_mode": {
    "name": "ipython",
    "version": 3
   },
   "file_extension": ".py",
   "mimetype": "text/x-python",
   "name": "python",
   "nbconvert_exporter": "python",
   "pygments_lexer": "ipython3",
   "version": "3.7.3"
  }
 },
 "nbformat": 4,
 "nbformat_minor": 2
}
